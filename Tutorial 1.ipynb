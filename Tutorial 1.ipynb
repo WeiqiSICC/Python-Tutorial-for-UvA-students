{
 "cells": [
  {
   "cell_type": "markdown",
   "id": "71fdda34",
   "metadata": {},
   "source": [
    "This tutorial includes following topics \\\n",
    "1.简单语法 \\\n",
    "2.输出输入 \\\n",
    "3.简单的计算 \\\n",
    "4.数据类型 \\\n",
    "5.控制流程 \\\n",
    "Expected study time: 2 hour"
   ]
  },
  {
   "cell_type": "markdown",
   "id": "7b8d3c36",
   "metadata": {},
   "source": [
    "## 1.简单的python语法：\n",
    "    1.1代码需要缩进\n",
    "    1.2添加注释\n",
    "    1.3代码断行"
   ]
  },
  {
   "cell_type": "code",
   "execution_count": 14,
   "id": "c5cbd0ae",
   "metadata": {},
   "outputs": [
    {
     "name": "stdout",
     "output_type": "stream",
     "text": [
      "1\n",
      "1\n",
      "2\n",
      "a\n",
      "I am  Weiqi Mao !\n"
     ]
    }
   ],
   "source": [
    "# 这是代码注释的例子\n",
    "'''\n",
    "这是多行注释\n",
    "'''\n",
    "\n",
    "## 这是一个简答的缩进例子\n",
    "a = 1\n",
    "b = 0\n",
    "if a > b:\n",
    "    print(a)\n",
    "else:\n",
    "    if a == 0:\n",
    "        print(a)\n",
    "    else:\n",
    "        pass\n",
    "\n",
    "## 这是断行的格式\n",
    "print(\"1\") ; print(\"2\") ## using ; to split\n",
    "\n",
    "if a > b : print(\"a\") ## 缩进语句只有一行的话 可以直接写在后面\n",
    "else : print(\"b\")\n",
    "\n",
    "first_name = 'Weiqi' \n",
    "last_name = 'Mao'\n",
    "print('I am ',\\ ## 利用下划线隔开代码\n",
    "     first_name,\\ ## 同时注意在括号里的语句也可以不需要下划线隔开即可断行\n",
    "     last_name,\\\n",
    "     \"!\")"
   ]
  },
  {
   "cell_type": "markdown",
   "id": "7588c32d",
   "metadata": {},
   "source": [
    "## 2.Python的input和output"
   ]
  },
  {
   "cell_type": "code",
   "execution_count": 21,
   "id": "aa4667e4",
   "metadata": {},
   "outputs": [
    {
     "name": "stdout",
     "output_type": "stream",
     "text": [
      "plz input ur name here:Weiqi\n"
     ]
    }
   ],
   "source": [
    "## example of input from keyborad\n",
    "## \"input\" is used in this form \"input([prompt])\", note that prompt stands for a command that user set by his will\n",
    "name = input('plz input ur name here:')"
   ]
  },
  {
   "cell_type": "code",
   "execution_count": 23,
   "id": "57637d64",
   "metadata": {},
   "outputs": [
    {
     "name": "stdout",
     "output_type": "stream",
     "text": [
      "Weiqi\n"
     ]
    }
   ],
   "source": [
    "print(name)"
   ]
  },
  {
   "cell_type": "code",
   "execution_count": 65,
   "id": "731a5e36",
   "metadata": {},
   "outputs": [
    {
     "name": "stdout",
     "output_type": "stream",
     "text": [
      "a b c\n",
      "a,b,c\n",
      "a b c;a b c\n",
      "a b c \n",
      " a b c\n"
     ]
    }
   ],
   "source": [
    "## 接下来是一些print相关语法\n",
    "print(\"a\",'b','c')\n",
    "print(\"a\",'b','c',sep=',')\n",
    "print(\"a\",'b','c',end=\";\") ## 用分号隔开的话，第三和第四个print就被放在了同一行上\n",
    "print(\"a\",'b','c')\n",
    "\n",
    "## newline\n",
    "print('a','b','c','\\n', 'a','b','c')"
   ]
  },
  {
   "cell_type": "markdown",
   "id": "12f0fa97",
   "metadata": {},
   "source": [
    "## 3.python计算\n",
    " 这个其实很简单，注释我不但算写了"
   ]
  },
  {
   "cell_type": "code",
   "execution_count": 125,
   "id": "be5f1a89",
   "metadata": {},
   "outputs": [
    {
     "name": "stdout",
     "output_type": "stream",
     "text": [
      "0.5 8 3.0\n",
      "8\n",
      "omit residual 整除: 4//3 is  1\n",
      "imot integer part 取余: 4%3 is 1\n"
     ]
    },
    {
     "data": {
      "text/plain": [
       "-0.4161468365471424"
      ]
     },
     "execution_count": 125,
     "metadata": {},
     "output_type": "execute_result"
    }
   ],
   "source": [
    "print(1/2,\n",
    "        2**3,\n",
    "        27*(4-2)/(2+4*(3+1))) ## 乘号别省略捏\n",
    "\n",
    "x = 2 ## 赋值\n",
    "print(x**3)\n",
    "\n",
    "print('omit residual 整除: 4//3 is ', 4//3)\n",
    "print('imot integer part 取余: 4%3 is', 4%3)\n",
    "\n",
    "## 运算优先级是：1. **  2. *, /, %, 3. +, - 4.|, ^, &, <<, >>\n",
    "\n",
    "import numpy as np\n",
    "import math\n",
    "\n",
    "math.cos(2) ## an example (应该是弧度制 不是角度制)\n",
    "np.cos(2) ## numpy and math both work"
   ]
  },
  {
   "cell_type": "code",
   "execution_count": null,
   "id": "f2b1e22a",
   "metadata": {},
   "outputs": [],
   "source": []
  },
  {
   "cell_type": "markdown",
   "id": "273dd75c",
   "metadata": {},
   "source": [
    "引入包了之后也要注意语法, 使用包里的语句是每次都需要调用， 应该没人会不记得吧， 不会吧不会吧！（各位多多感谢python吧——） "
   ]
  },
  {
   "cell_type": "code",
   "execution_count": 52,
   "id": "1bc8457f",
   "metadata": {},
   "outputs": [
    {
     "name": "stdout",
     "output_type": "stream",
     "text": [
      "0.8999999999999999\n",
      "0.9 == 0.1+0.1+0.1+0.1+0.1+0.1+0.1+0.1+0.1;False\n",
      "0.9 - (0.1+0.1+0.1+0.1+0.1+0.1+0.1+0.1+0.1)< 1**-9;True\n"
     ]
    }
   ],
   "source": [
    "print(0.1+0.1+0.1+0.1+0.1+0.1+0.1+0.1+0.1) ## 怎么会这样！！！\n",
    "                                            ## 所有计算机语言的浮点数（float，小数点后的数字是浮动的，就是不稳定的）都有点问题\n",
    "print('0.9 == 0.1+0.1+0.1+0.1+0.1+0.1+0.1+0.1+0.1',end=\";\") \n",
    "print(0.9 == 0.1+0.1+0.1+0.1+0.1+0.1+0.1+0.1+0.1)\n",
    "## 比较浮点的话就比较两个数字之间的差值是不是小于一个极小的数\n",
    "0.9 - (0.1+0.1+0.1+0.1+0.1+0.1+0.1+0.1+0.1)< 1**-9\n",
    "print('0.9 - (0.1+0.1+0.1+0.1+0.1+0.1+0.1+0.1+0.1)< 1**-9',end=\";\") \n",
    "print(0.9 - (0.1+0.1+0.1+0.1+0.1+0.1+0.1+0.1+0.1)< 1**-9)\n",
    "##看起来不错 就这样吧"
   ]
  },
  {
   "cell_type": "markdown",
   "id": "d5816a71",
   "metadata": {},
   "source": [
    "最后来点bonus"
   ]
  },
  {
   "cell_type": "code",
   "execution_count": 62,
   "id": "cf9f54d7",
   "metadata": {},
   "outputs": [
    {
     "name": "stdout",
     "output_type": "stream",
     "text": [
      "   * \n",
      "  * * \n",
      " * * *\n"
     ]
    }
   ],
   "source": [
    "print('   *','\\n',' * *','\\n','* * *')"
   ]
  },
  {
   "cell_type": "markdown",
   "id": "ed65cdcf",
   "metadata": {},
   "source": [
    "# 4.Python数据类型\n",
    "## 4.1 字符串（str）"
   ]
  },
  {
   "cell_type": "code",
   "execution_count": 109,
   "id": "739b290c",
   "metadata": {},
   "outputs": [
    {
     "name": "stdout",
     "output_type": "stream",
     "text": [
      "If we want to extract the first element from a str, we can use x[position] to do so \n",
      " The first element is located at 0 in python which is a\n",
      "SB UVA\n",
      "SB UVA! SB UVA! SB UVA! \n",
      "['WOSHISHABI']\n",
      "count demo\t 7\n"
     ]
    }
   ],
   "source": [
    "## 字符串就是放在引号里的东西\n",
    "x = 'abcdefg'\n",
    "print('If we want to extract the first element from a str, we can use x[position] to do so','\\n',\n",
    "      'The first element is located at 0 in python which is',x[0])\n",
    "##注意python的序列是从0开始的\n",
    "\n",
    "## 字符串也是可以运算的\n",
    "print(\"SB \" + \"UVA\")\n",
    "print(\"SB UVA! \" * 3) ## 注意我在感叹号后加了一个空格，所以前一个sb uva后总有一个space\n",
    "\n",
    "## 字符串处理函数\n",
    "mystr = 'WOSHISHABI'\n",
    "mystr.isalnum() ## 是否有字母\n",
    "mystr.find(\"W\") ## 第一个W在第几位,如果没有输出-1\n",
    "mystr.capitalize() ## 大写第一位\n",
    "mystr.split(\"H\") ## 从字母H处分割开\n",
    "print(mystr.split(\" \"))\n",
    "len(mystr) ## 我是傻逼长度为10\n",
    "print('count demo\\t',mystr.find(\"A\"))"
   ]
  },
  {
   "cell_type": "markdown",
   "id": "c44e7f8c",
   "metadata": {},
   "source": [
    "## 4.1.2 More字符串"
   ]
  },
  {
   "cell_type": "code",
   "execution_count": 161,
   "id": "9dac49a7",
   "metadata": {},
   "outputs": [
    {
     "name": "stdout",
     "output_type": "stream",
     "text": [
      "Uva is SB\n",
      "1 + 1 = 2 \n",
      "\n",
      "1 + 2 = 3 \n",
      "\n",
      "2 + 3 = 5 \n",
      "\n",
      "3 + 4 = 7 \n",
      "\n",
      "4 + 5 = 9 \n",
      "\n",
      "5 + 6 = 11 \n",
      "\n",
      "6 + 7 = 13 \n",
      "\n",
      "7 + 8 = 15 \n",
      "\n",
      "8 + 9 = 17 \n",
      "\n",
      "9 + 10 = 19 \n",
      "\n",
      "UVA 有1个爷 \n",
      "\n",
      "UVA 有2个爷 \n",
      "\n",
      "UVA 有3个爷 \n",
      "\n",
      "UVA 有4个爷 \n",
      "\n",
      "UVA 有5个爷 \n",
      "\n",
      "UVA 有6个爷 \n",
      "\n",
      "UVA 有7个爷 \n",
      "\n",
      "UVA 有8个爷 \n",
      "\n",
      "UVA 有9个爷 \n",
      "\n"
     ]
    }
   ],
   "source": [
    "## 就是说一些格式化字符串\n",
    "print(\"Uva is %s\" % (\"SB\")) ## %s 是一个字符串的意思\n",
    "\n",
    "print(\"%d + %d = %d\" % (1, 1, 1+1),\"\\n\") ## %d 是一个10进制数字\n",
    "\n",
    "for i in range(1,10):\n",
    "    a = i\n",
    "    b = 1+i\n",
    "    c = a+b\n",
    "    print(\"%d + %d = %d\" % (a, b, a+b), \"\\n\")\n",
    "## 原来格式化有妙用呢，字符串内的值可以通过格式化实现替换\n",
    "\n",
    "mystr = \"爷\"\n",
    "\n",
    "for i in range(1,10):\n",
    "    mystr_mult = mystr * i\n",
    "    print(\"UVA 有%d个%s\" % (len(mystr_mult),mystr),\"\\n\")\n",
    "## 想骂就多码点吧，这里其实是想展现一下 Python 3.x 支持中文字符串"
   ]
  },
  {
   "cell_type": "code",
   "execution_count": 157,
   "id": "0ec0e09f",
   "metadata": {},
   "outputs": [
    {
     "ename": "SyntaxError",
     "evalue": "unexpected EOF while parsing (<ipython-input-157-f5fa81960d33>, line 1)",
     "output_type": "error",
     "traceback": [
      "\u001b[1;36m  File \u001b[1;32m\"<ipython-input-157-f5fa81960d33>\"\u001b[1;36m, line \u001b[1;32m1\u001b[0m\n\u001b[1;33m    list(range(1,11)\u001b[0m\n\u001b[1;37m                    ^\u001b[0m\n\u001b[1;31mSyntaxError\u001b[0m\u001b[1;31m:\u001b[0m unexpected EOF while parsing\n"
     ]
    }
   ],
   "source": []
  },
  {
   "cell_type": "markdown",
   "id": "7cfa2aec",
   "metadata": {},
   "source": [
    "# 4.2整数（Int）"
   ]
  },
  {
   "cell_type": "markdown",
   "id": "e71c5ed9",
   "metadata": {},
   "source": [
    "整数好像也没啥好说的，最重要的特点就是Int没有小数点，1是1，0是0，1.0不是1， 0.0不是0 "
   ]
  },
  {
   "cell_type": "markdown",
   "id": "1871e2d6",
   "metadata": {},
   "source": [
    "## 4.3浮点数（float） "
   ]
  },
  {
   "cell_type": "code",
   "execution_count": 143,
   "id": "79f35029",
   "metadata": {},
   "outputs": [
    {
     "name": "stdout",
     "output_type": "stream",
     "text": [
      "demo int(23.99):  23\n",
      "demo int(\"23\"):  23 \n",
      "\n",
      "demo int(23):  23.0\n",
      "demo int(\"23.22\"):  23.22 \n",
      "\n",
      "demo int(23):  23\n",
      "demo int(\"23.22\"):  23.22\n"
     ]
    }
   ],
   "source": [
    "## 浮点数非常重要，带小数点的都是浮点， 浮点数的运算是有一定规则的\n",
    "## 19.0 \n",
    "19.\n",
    "## 0.09\n",
    ".09\n",
    "## -2 * 10**3\n",
    "-2e3\n",
    "\n",
    "## how to convert int to float or from float to int?\n",
    "print('demo int(23.99): ', int(23.99))\n",
    "print('demo int(\"23\"): ', int('23'),\"\\n\")\n",
    "\n",
    "print('demo int(23): ', float(23))\n",
    "print('demo int(\"23.22\"): ', float('23.22'),\"\\n\")\n",
    "\n",
    "print('demo int(23): ', str(23))\n",
    "print('demo int(\"23.22\"): ', str('23.22'))"
   ]
  },
  {
   "cell_type": "markdown",
   "id": "d1c26494",
   "metadata": {},
   "source": [
    "## 4.4 结构数据\n",
    "### 4.4.1 List"
   ]
  },
  {
   "cell_type": "code",
   "execution_count": 235,
   "id": "da78e085",
   "metadata": {},
   "outputs": [
    {
     "name": "stdout",
     "output_type": "stream",
     "text": [
      "now the list is:  [1]\n",
      "[1, 1]\n",
      "[1, 1, 1, 1, 1, 1, 1, 1, 1, 1]\n",
      "source list is  []\n",
      "demo list.append(x)  None [1]\n",
      "demo list.count(x) 1\n",
      "demo list.extend(x) None [1, 2, 3, 4, 5]\n",
      "demo list.insert(x) None [1, 2, 0, 3, 4, 5]\n",
      "demo list.remove(x) None [2, 0, 3, 4, 5]\n",
      "demo list.reverse(x) None [5, 4, 3, 0, 2]\n",
      "demo list.sort() None [0, 2, 3, 4, 5]\n"
     ]
    },
    {
     "data": {
      "text/plain": [
       "[1, 3, 5]"
      ]
     },
     "execution_count": 235,
     "metadata": {},
     "output_type": "execute_result"
    }
   ],
   "source": [
    "empty = list()\n",
    "## this is a empty list which means, whatever you add into the list becomes the first element of this list\n",
    "empty.append(1)\n",
    "print(\"now the list is: \",empty)\n",
    "## list can do this:\n",
    "print(empty + empty)\n",
    "print(empty*10)\n",
    "\n",
    "## something usful:\n",
    "alist = list()\n",
    "print(\"source list is \", alist)\n",
    "print(\"demo list.append(x) \", alist.append(1), alist) ## none 只是不显示append\n",
    "print(\"demo list.count(x)\", alist.count(1)) ## alist has one 1\n",
    "print(\"demo list.extend(x)\", alist.extend([2,3,4,5]), alist) \n",
    "print(\"demo list.insert(x)\", alist.insert(2,0), alist) ## index 2 上原本是 3 现在被替换成 0，3 往后一位\n",
    "print(\"demo list.remove(x)\", alist.remove(1),alist) ## remove value in ( ), however, if value in ( ) not exist in list, then retuen error\n",
    "print(\"demo list.reverse(x)\", alist.reverse(),alist) ## reverse\n",
    "print(\"demo list.sort()\", alist.sort(),alist) ## 排序了\n",
    "\n",
    "##一些序列问题\n",
    "alist = list([1,2,3,4,5,6])\n",
    "alist[:]\n",
    "alist[0:3]\n",
    "alist[::1]\n",
    "alist[::2]\n",
    "alist[0:5:2] ## 第0位到第位，隔一位取\n"
   ]
  },
  {
   "cell_type": "markdown",
   "id": "6b371514",
   "metadata": {},
   "source": [
    "### 4.4.2 元组（tuple）"
   ]
  },
  {
   "cell_type": "code",
   "execution_count": 199,
   "id": "7f16d811",
   "metadata": {},
   "outputs": [],
   "source": [
    "## tuple cant be editted\n",
    "atpl = ()\n",
    "atpl = (1,2,3,4,5)"
   ]
  },
  {
   "cell_type": "markdown",
   "id": "d2d4ed38",
   "metadata": {},
   "source": [
    "### 4.4.3 字典（dict）"
   ]
  },
  {
   "cell_type": "code",
   "execution_count": 48,
   "id": "3fa9c24e",
   "metadata": {},
   "outputs": [
    {
     "name": "stdout",
     "output_type": "stream",
     "text": [
      "To extract values under a name:  'a' =  1\n",
      "demo get  1\n",
      "demo items  dict_items([('a', 1), ('b', 2), ('c', 3.4)])\n",
      "demo keys dict_keys(['a', 'b', 'c'])\n",
      "demo update None dict_items([('a', 1), ('b', 2), ('c', 3.4), ('d', 4)])\n",
      "demo pop 4 dict_items([('a', 1), ('b', 2), ('c', 3.4)])\n"
     ]
    },
    {
     "data": {
      "text/plain": [
       "dict_keys(['a', 'b', 'c'])"
      ]
     },
     "execution_count": 48,
     "metadata": {},
     "output_type": "execute_result"
    }
   ],
   "source": [
    "## dict stands for dictionary which is really helpful when dealing name : value stuff.\n",
    "dict( ) ## This is a empty dictionary\n",
    "adct = {'a' : 1, 'b' : 2, 'c' : 3.4} ## 在这个dict中， 字母a b c是键， 数字1 2 3.4是值\n",
    "print(\"To extract values under a name: \",\"'a' = \", adct['a'])\n",
    "\n",
    "## 一些commands\n",
    "print(\"demo get \", adct.get('a'))\n",
    "print(\"demo items \",adct.items( ))\n",
    "print(\"demo keys\", adct.keys()) ## check all keys\n",
    "print(\"demo update\", adct.update({\"d\" : 4}), adct.items() ) ## update if updated key is new, otherwise error\n",
    "print(\"demo pop\", adct.pop(\"d\"), adct.items()) ## delete\n",
    "\n"
   ]
  },
  {
   "cell_type": "markdown",
   "id": "ba9a95bb",
   "metadata": {},
   "source": [
    "### 4.5 逻辑操作"
   ]
  },
  {
   "cell_type": "code",
   "execution_count": 243,
   "id": "9ce94246",
   "metadata": {},
   "outputs": [
    {
     "data": {
      "text/plain": [
       "True"
      ]
     },
     "execution_count": 243,
     "metadata": {},
     "output_type": "execute_result"
    }
   ],
   "source": [
    "True == 1\n",
    "False == 0\n",
    "True * 1 == 1\n",
    "True + True == 2\n",
    "True < 2"
   ]
  },
  {
   "cell_type": "markdown",
   "id": "9a2fe8df",
   "metadata": {},
   "source": [
    "## 5.Control Flow\n",
    "控制语句算是入门所有编程语言的一个重点了"
   ]
  },
  {
   "cell_type": "markdown",
   "id": "7bed99a4",
   "metadata": {},
   "source": [
    "### 5.1 If"
   ]
  },
  {
   "cell_type": "code",
   "execution_count": 5,
   "id": "cb336002",
   "metadata": {},
   "outputs": [
    {
     "name": "stdout",
     "output_type": "stream",
     "text": [
      "Give me a number1\n",
      "non-zero number\n"
     ]
    }
   ],
   "source": [
    "## example of if\n",
    "x = input('Give me a number') ## 输入\n",
    "x = float(x) ## 把字符转位浮点或者int也行\n",
    "if x == 0: ## 这是condition， if里的内容如果被满足（TRUE）， 那么python会运行冒号下缩进的语句\n",
    "    print('Input is 0') ## condition位true时运行的语句\n",
    "else:  ## else 就是if为false时运行的\n",
    "    print('non-zero number')"
   ]
  },
  {
   "cell_type": "markdown",
   "id": "969cf543",
   "metadata": {},
   "source": [
    "如果我们的control是binary的，那么我们只需要一个if和一个else。但如果有更多的选择就要用到别的elif了。"
   ]
  },
  {
   "cell_type": "code",
   "execution_count": 23,
   "id": "7d3ecdcb",
   "metadata": {},
   "outputs": [
    {
     "name": "stdout",
     "output_type": "stream",
     "text": [
      "please input a number: 1.2\n",
      "odd number which is 1\n"
     ]
    }
   ],
   "source": [
    "## elif example\n",
    "x = input('please input a number: ')\n",
    "x = float(x)\n",
    "residual = x % 2 ## 取一个余数\n",
    "if residual == 0: ##第一个条件\n",
    "    print('even number which is %d' % x) ##这里运用了print里的初始化 记住%d是数字捏\n",
    "elif x == 0: ## 第二个条件\n",
    "    print('zero') ## 0很特殊取余报错\n",
    "else: \n",
    "    print('odd number which is %d' % x)\n",
    "    "
   ]
  },
  {
   "cell_type": "markdown",
   "id": "e9f19dd9",
   "metadata": {},
   "source": [
    "如果说满足第一个条件的元素是所有整数里的全集里的一个子集A，满足第二个条件的就是B，那么else就是全集N /（A $\\cup$ B)。如果有更多的子集就设置更多的elif。当然如果需要在集子里在分子集的话"
   ]
  },
  {
   "cell_type": "code",
   "execution_count": 27,
   "id": "7253bcf2",
   "metadata": {},
   "outputs": [
    {
     "name": "stdout",
     "output_type": "stream",
     "text": [
      "a number please-1\n",
      "可以表达： -1\n"
     ]
    }
   ],
   "source": [
    "a = input('a number please')\n",
    "a = int(a)\n",
    "if a > 0:\n",
    "    if a > 10000: ## if 里套 if 就是 if语句的嵌套\n",
    "        print('有点大了ba')\n",
    "    else:\n",
    "        print('可以表达,数字是： %d' % a)\n",
    "else:\n",
    "    if a > 10000:\n",
    "        print('有点小了ba')\n",
    "    else:\n",
    "        print('可以表达： %d' % a)"
   ]
  },
  {
   "cell_type": "markdown",
   "id": "585aa97d",
   "metadata": {},
   "source": [
    "### 5.2 for loop"
   ]
  },
  {
   "cell_type": "code",
   "execution_count": 74,
   "id": "49d1497d",
   "metadata": {},
   "outputs": [
    {
     "name": "stdout",
     "output_type": "stream",
     "text": [
      "0\n",
      "0 的平方是：  0\n",
      "1\n",
      "1 的平方是：  1\n",
      "2\n",
      "3\n",
      "3 的平方是：  9\n",
      "4\n",
      "4 的平方是：  16\n",
      "5\n",
      "5 的平方是：  25\n",
      "6\n",
      "6 的平方是：  36\n",
      "7\n",
      "7 的平方是：  49\n",
      "我们在 7 break loop \n",
      "\n",
      "[0, 1, 2, 3, 4, 5, 6, 7, 8] \n",
      "\n",
      "dict_items([('a', 1), ('b', 2), ('c', 3.4)]) \n",
      "\n",
      "a : 1 \n",
      "\n",
      "b : 2 \n",
      "\n",
      "c : 3.4 \n",
      "\n",
      "a\n",
      "b\n",
      "c\n",
      "1\n",
      "2\n",
      "3.4\n",
      "第0字母是a\n",
      "第1字母是b\n",
      "第2字母是c\n",
      "第3字母是d\n",
      "\n",
      " [ 2.70684984  0.62813271  0.90796945  0.50382575  0.65111795 -0.31931804\n",
      " -0.84807698  0.60596535 -2.01816824  0.74012206] \n",
      "\n",
      "-2.018168244037392\n",
      "-0.8480769834036315\n",
      "-0.31931804459303326\n",
      "0.5038257538223936\n",
      "0.6059653494949336\n",
      "0.6281327087844596\n",
      "0.6511179479432686\n",
      "0.7401220570561068\n",
      "0.9079694464765431\n",
      "2.706849839399938\n",
      "0 : 1 : 2 \n",
      "\n",
      "1 : 2 : 3 \n",
      "\n",
      "2 : 3 : 4 \n",
      "\n",
      "3 : 4 : 5 \n",
      "\n",
      "4 : 5 : 6 \n",
      "\n"
     ]
    }
   ],
   "source": [
    "## exmaple of for, break and continue\n",
    "for i in range(0,9):\n",
    "    print(i)\n",
    "    if i == 2:\n",
    "        continue ## 继续执行下一个i，跳过之后continue之后的语句，所以print平方在2就没有执行\n",
    "    print(i,\"的平方是： \",i**2)\n",
    "    if i == 7:\n",
    "        print('我们在',i,'break loop',\"\\n\")\n",
    "        break ## 停止循环，所以7以后的数字就没有了但我们有0到8\n",
    "print(list(range(0,9)),\"\\n\") ## range（a，b）就是包括a九个数（从a到b-1）\n",
    "\n",
    "## try loop in dictionary:\n",
    "print(adct.items(),\"\\n\")\n",
    "\n",
    "for key,value in adct.items(): ## 同时从字典里提出key和相应的value\n",
    "    print(key,\":\",value,\"\\n\")\n",
    "    \n",
    "for key in adct.keys():\n",
    "    print(key)\n",
    "\n",
    "for value in adct.values():\n",
    "    print(value)\n",
    "    \n",
    "## 一些迭代语句，非常实用 \n",
    "for i,item in enumerate('abcd'): ## 编号迭代，给后面的一些东西加上编号\n",
    "    print(\"第%d字母是%s\"% (i,item))\n",
    "    \n",
    "import numpy as np\n",
    "np.random.seed(101)\n",
    "seq_random = np.random.normal(0,1,10) ## 为了演示排序生成了一些mean=1，scale=0的随机数（没有排序的）\n",
    "\n",
    "print(\"\\n\",seq_random,\"\\n\")\n",
    "for i in sorted(seq_random): ## 排序迭代\n",
    "    print(i)\n",
    "    \n",
    "seq_1 = range(0,5)\n",
    "seq_2 = range(1,6)\n",
    "seq_3 = range(2,7)\n",
    "for i,j,k in zip(seq_1,seq_2,seq_3): ## 并行迭代就是同时迭代三个seq\n",
    "    print(i,':',j,':',k,\"\\n\")"
   ]
  },
  {
   "cell_type": "markdown",
   "id": "0b618bd2",
   "metadata": {},
   "source": [
    "### 5.3 while语句\n",
    "while就是附带条件的循环"
   ]
  },
  {
   "cell_type": "code",
   "execution_count": 77,
   "id": "55e71c8f",
   "metadata": {},
   "outputs": [
    {
     "name": "stdout",
     "output_type": "stream",
     "text": [
      "0 square is:  0\n",
      "1 square is:  1\n",
      "2 square is:  4\n",
      "3 square is:  9\n",
      "4 square is:  16\n",
      "5 square is:  25\n",
      "loop ends\n"
     ]
    }
   ],
   "source": [
    "## example\n",
    "list_example = [1,2,3,4,5,6]\n",
    "total = len(list_example)\n",
    "i = 0\n",
    "while i < total: ## 当条件为真时运行缩进的语句，为否时停止循环，所以当i迭代到6时，6不小于6（list的长度）循环条件为否，停止。\n",
    "    print(i,\"square is: \",i**2)\n",
    "    i += 1 ## 这是一个增量赋值语句\n",
    "else:\n",
    "    print('loop ends')"
   ]
  },
  {
   "cell_type": "code",
   "execution_count": 83,
   "id": "1bf35e4c",
   "metadata": {},
   "outputs": [
    {
     "name": "stdout",
     "output_type": "stream",
     "text": [
      "2\n",
      "2\n",
      "3\n",
      "3\n"
     ]
    }
   ],
   "source": [
    "## 一些增量赋值 \n",
    "x = 1 \n",
    "x += 1 ## +=\n",
    "print(x)\n",
    "\n",
    "x = 1\n",
    "x = x + 1 \n",
    "print(x)\n",
    "\n",
    "x = 1 \n",
    "x *= 3 ## +=\n",
    "print(x)\n",
    "\n",
    "x = 1\n",
    "x = x*3 \n",
    "print(x)\n",
    "\n",
    "## 其他运算符号也可以加在等号前"
   ]
  },
  {
   "cell_type": "markdown",
   "id": "e4e3d825",
   "metadata": {},
   "source": [
    "## 5.4 List comprehension"
   ]
  },
  {
   "cell_type": "code",
   "execution_count": 91,
   "id": "36129721",
   "metadata": {},
   "outputs": [
    {
     "name": "stdout",
     "output_type": "stream",
     "text": [
      "[1, 4, 27, 256, 3125, 46656, 823543, 16777216, 387420489, 10000000000]\n",
      "{'name': 'bob', 'age': '23', 'weight': '68'}\n"
     ]
    },
    {
     "data": {
      "text/plain": [
       "'\\n表达式[<fucntion of i> for i in aiterator]\\n   or [<fucntion of i> for i in aiterator if <condition>]\\n'"
      ]
     },
     "execution_count": 91,
     "metadata": {},
     "output_type": "execute_result"
    }
   ],
   "source": [
    "square = [i**i for i in range(1,11)]\n",
    "print(square)\n",
    "\n",
    "keys = ['name','age','weight']\n",
    "values = ['bob','23','68']\n",
    "adct_1 = {k:v for k,v in zip(keys,values)}\n",
    "print(adct_1)\n",
    "\n",
    "'''\n",
    "表达式[<fucntion of i> for i in aiterator]\n",
    "   or [<fucntion of i> for i in aiterator if <condition>]\n",
    "'''\n",
    "\n"
   ]
  }
 ],
 "metadata": {
  "kernelspec": {
   "display_name": "Python 3",
   "language": "python",
   "name": "python3"
  },
  "language_info": {
   "codemirror_mode": {
    "name": "ipython",
    "version": 3
   },
   "file_extension": ".py",
   "mimetype": "text/x-python",
   "name": "python",
   "nbconvert_exporter": "python",
   "pygments_lexer": "ipython3",
   "version": "3.8.8"
  }
 },
 "nbformat": 4,
 "nbformat_minor": 5
}
